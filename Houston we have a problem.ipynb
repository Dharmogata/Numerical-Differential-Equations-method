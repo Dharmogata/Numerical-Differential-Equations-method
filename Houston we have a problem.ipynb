{
 "cells": [
  {
   "cell_type": "code",
   "execution_count": null,
   "metadata": {
    "collapsed": true
   },
   "outputs": [],
   "source": [
    "import os\n",
    "os.chdir('C:\\Users\\Administrator\\Desktop')"
   ]
  },
  {
   "cell_type": "markdown",
   "metadata": {},
   "source": [
    "# Python Playground"
   ]
  },
  {
   "cell_type": "code",
   "execution_count": 7,
   "metadata": {
    "collapsed": false
   },
   "outputs": [
    {
     "name": "stdout",
     "output_type": "stream",
     "text": [
      "42\n"
     ]
    }
   ],
   "source": [
    "# THis is comment.\n",
    "\n",
    "# Assigning a value to a variable\n",
    "answer = 42\n",
    "radius_of_earth = 6.371e6 # m\n",
    "#test_number = 43.0\n",
    "#13test = 44.0\n",
    "\n",
    "print answer"
   ]
  },
  {
   "cell_type": "markdown",
   "metadata": {},
   "source": [
    "## Basic arithmetics"
   ]
  },
  {
   "cell_type": "code",
   "execution_count": 8,
   "metadata": {
    "collapsed": false
   },
   "outputs": [
    {
     "name": "stdout",
     "output_type": "stream",
     "text": [
      "130 4.0589641e+13 49 1 1.25 1.25\n"
     ]
    }
   ],
   "source": [
    "a = 3 * answer + 4\n",
    "\n",
    "b = radius_of_earth ** 2 + (a+3)**0.5\n",
    "\n",
    "answer += 7\n",
    "\n",
    "c = 5 / 4\n",
    "d = 5 / 4.\n",
    "e = 1.0 * 5 / 4\n",
    "\n",
    "print a, b, answer, c, d, e"
   ]
  },
  {
   "cell_type": "code",
   "execution_count": 9,
   "metadata": {
    "collapsed": false
   },
   "outputs": [
    {
     "name": "stdout",
     "output_type": "stream",
     "text": [
      "2.0 2530229.21123\n"
     ]
    }
   ],
   "source": [
    "import math\n",
    "\n",
    "f = math.sqrt(4) # 4**0.5\n",
    "\n",
    "g = radius_of_earth * math.sin(math.pi / 180.0 * 23.4)\n",
    "g = radius_of_earth * math.sin(math.pi/\n",
    "    180.0 * 23.4)\n",
    "\n",
    "print f, g"
   ]
  },
  {
   "cell_type": "code",
   "execution_count": 10,
   "metadata": {
    "collapsed": false
   },
   "outputs": [
    {
     "name": "stdout",
     "output_type": "stream",
     "text": [
      "0\n",
      "1\n",
      "4\n",
      "9\n",
      "16\n",
      "25\n",
      "36\n"
     ]
    }
   ],
   "source": [
    "for h in range(7):\n",
    "    i = h **2\n",
    "    print i"
   ]
  },
  {
   "cell_type": "code",
   "execution_count": 11,
   "metadata": {
    "collapsed": false
   },
   "outputs": [
    {
     "name": "stdout",
     "output_type": "stream",
     "text": [
      "130 7655\n"
     ]
    }
   ],
   "source": [
    "k = 42\n",
    "m = 43\n",
    "\n",
    "while k < 130 or m == 140:\n",
    "    k += 1\n",
    "    m += k\n",
    "print k, m"
   ]
  },
  {
   "cell_type": "code",
   "execution_count": 12,
   "metadata": {
    "collapsed": false
   },
   "outputs": [
    {
     "name": "stdout",
     "output_type": "stream",
     "text": [
      "Hi\n"
     ]
    }
   ],
   "source": [
    "k = 130\n",
    "m = 7655\n",
    "if k > 42:\n",
    "    print 'Hi'\n",
    "elif m > 43:\n",
    "    print 'Hello'\n",
    "else:\n",
    "    print 'Bye'"
   ]
  },
  {
   "cell_type": "code",
   "execution_count": 13,
   "metadata": {
    "collapsed": false
   },
   "outputs": [
    {
     "name": "stdout",
     "output_type": "stream",
     "text": [
      "[ 20.   0.   0.   0.  99.]\n",
      "99.0\n"
     ]
    }
   ],
   "source": [
    "import numpy\n",
    "\n",
    "n = numpy.zeros(5)\n",
    "n[0] = 20.\n",
    "n[4] = 99.\n",
    "\n",
    "print n\n",
    "print n[-1]"
   ]
  },
  {
   "cell_type": "code",
   "execution_count": 14,
   "metadata": {
    "collapsed": false
   },
   "outputs": [
    {
     "name": "stdout",
     "output_type": "stream",
     "text": [
      "[[ 0.  7.  0.]\n",
      " [ 0.  0.  8.]]\n",
      "[[  1.  15.   1.]\n",
      " [  1.   1.  17.]]\n"
     ]
    }
   ],
   "source": [
    "p = numpy.zeros([2, 3])\n",
    "\n",
    "p[0, 1] = 7.\n",
    "p[1, 2] = 8.\n",
    "\n",
    "print p\n",
    "\n",
    "p = 1. + 2. * p\n",
    "print p"
   ]
  },
  {
   "cell_type": "code",
   "execution_count": 15,
   "metadata": {
    "collapsed": false
   },
   "outputs": [
    {
     "name": "stdout",
     "output_type": "stream",
     "text": [
      "3 21\n"
     ]
    }
   ],
   "source": [
    "def three_times(u):\n",
    "    r = 2 * u\n",
    "    return r + u\n",
    "print three_times(1), three_times(7)"
   ]
  },
  {
   "cell_type": "markdown",
   "metadata": {},
   "source": [
    "## Sine and Cosine with Python"
   ]
  },
  {
   "cell_type": "code",
   "execution_count": 16,
   "metadata": {
    "collapsed": false
   },
   "outputs": [],
   "source": [
    "import math\n",
    "import numpy\n",
    "import matplotlib.pyplot\n",
    "%matplotlib inline\n",
    "\n",
    "def sin_cos():\n",
    "    num_points = 50\n",
    "    \n",
    "    x = numpy.zeros(num_points)\n",
    "    sin_x = numpy.zeros(num_points)\n",
    "    cos_x = numpy.zeros(num_points)\n",
    "    \n",
    "    for i in range(num_points):\n",
    "        x[i] = 2. * math.pi * i / (num_points - 1.)\n",
    "        sin_x[i] = math.sin(x[i])\n",
    "        cos_x[i] = math.cos(x[i])\n",
    "    return x, sin_x, cos_x\n",
    "\n",
    "x, sin_x, cos_x = sin_cos()\n",
    "\n",
    "\n",
    "\n",
    "def plot_me():\n",
    "    matplotlib.pyplot.plot(x, sin_x)\n",
    "    matplotlib.pyplot.plot(x, cos_x)\n"
   ]
  },
  {
   "cell_type": "code",
   "execution_count": 17,
   "metadata": {
    "collapsed": false
   },
   "outputs": [
    {
     "data": {
      "image/png": "[encoded data removed]",
      "text/plain": [
       "<matplotlib.figure.Figure at 0xc6f3b38>"
      ]
     },
     "metadata": {},
     "output_type": "display_data"
    }
   ],
   "source": [
    "plot_me()"
   ]
  },
  {
   "cell_type": "markdown",
   "metadata": {},
   "source": [
    "## Eulerian Method"
   ]
  },
  {
   "cell_type": "code",
   "execution_count": 18,
   "metadata": {
    "collapsed": true
   },
   "outputs": [],
   "source": [
    "import numpy\n",
    "import matplotlib.pyplot\n",
    "\n",
    "def forward_euler():\n",
    "    h = 0.1 # s\n",
    "    g = 9.81 # m / s2\n",
    "    \n",
    "    num_steps = 50\n",
    "    \n",
    "    t = numpy.zeros(num_steps + 1)\n",
    "    x = numpy.zeros(num_steps + 1)\n",
    "    v = numpy.zeros(num_steps + 1)\n",
    "    \n",
    "    for step in range(num_steps):\n",
    "        t[step + 1] = h *(step+1)\n",
    "        x[step + 1] = x[step] + h*v[step]\n",
    "        v[step + 1] = v[step] - h*g\n",
    "    return t, x, v\n",
    "\n",
    "t, x, v = forward_euler()\n",
    "\n",
    "def plot_me():\n",
    "    axes_height = matplotlib.pyplot.subplot(211)\n",
    "    matplotlib.pyplot.plot(t, x)\n",
    "    axes_velocity = matplotlib.pyplot.subplot(212)\n",
    "    matplotlib.pyplot.plot(t, v)\n",
    "    axes_height.set_ylabel('Height in m')\n",
    "    axes_velocity.set_ylabel('Velocity in m/s')\n",
    "    axes_velocity.set_xlabel('Time in s')\n",
    "    #matplotlib.pyplot.show()"
   ]
  },
  {
   "cell_type": "code",
   "execution_count": 19,
   "metadata": {
    "collapsed": false
   },
   "outputs": [
    {
     "data": {
      "image/png": "[encoded data removed]",
      "text/plain": [
       "<matplotlib.figure.Figure at 0xc354358>"
      ]
     },
     "metadata": {},
     "output_type": "display_data"
    }
   ],
   "source": [
    "plot_me()"
   ]
  },
  {
   "cell_type": "code",
   "execution_count": 20,
   "metadata": {
    "collapsed": false
   },
   "outputs": [
    {
     "data": {
      "text/html": [
       "\n",
       "        <iframe\n",
       "            width=\"400\"\n",
       "            height=\"300\"\n",
       "            src=\"https://www.youtube.com/embed/lV_mcptVQaM\"\n",
       "            frameborder=\"0\"\n",
       "            allowfullscreen\n",
       "        ></iframe>\n",
       "        "
      ],
      "text/plain": [
       "<IPython.lib.display.YouTubeVideo at 0xcbb8860>"
      ]
     },
     "execution_count": 20,
     "metadata": {},
     "output_type": "execute_result"
    }
   ],
   "source": [
    "from IPython.display import YouTubeVideo\n",
    "YouTubeVideo('lV_mcptVQaM')"
   ]
  },
  {
   "cell_type": "markdown",
   "metadata": {},
   "source": [
    "## Programming Acceleration"
   ]
  },
  {
   "cell_type": "code",
   "execution_count": 21,
   "metadata": {
    "collapsed": true
   },
   "outputs": [],
   "source": [
    "import numpy\n",
    "\n",
    "earth_mass = 5.97e24 # kg\n",
    "moon_mass = 7.35e22 # kg\n",
    "gravitational_constant = 6.67e-11 # N m2 / kg2\n",
    "\n",
    "def acceleration(moon_position, spaceship_position):\n",
    "    vector_to_moon = moon_position - spaceship_position\n",
    "    vector_to_earth = - spaceship_position\n",
    "    return gravitaional_constant * (earth_math / numpy.linalg.norm(vector_to_earth)**3 * vector_to_earth\\\n",
    "                                    + moon_mass / numpy.linalg.norm(vector_to_moon)**3 * vector_to_moon)"
   ]
  },
  {
   "cell_type": "code",
   "execution_count": 22,
   "metadata": {
    "collapsed": false
   },
   "outputs": [
    {
     "ename": "NameError",
     "evalue": "name 'moon_position' is not defined",
     "output_type": "error",
     "traceback": [
      "\u001b[1;31m---------------------------------------------------------------------------\u001b[0m",
      "\u001b[1;31mNameError\u001b[0m                                 Traceback (most recent call last)",
      "\u001b[1;32m<ipython-input-22-ccde7c5d6f0e>\u001b[0m in \u001b[0;36m<module>\u001b[1;34m()\u001b[0m\n\u001b[1;32m----> 1\u001b[1;33m \u001b[0macceleration\u001b[0m\u001b[1;33m(\u001b[0m\u001b[0mmoon_position\u001b[0m\u001b[1;33m,\u001b[0m \u001b[0mspaceship_position\u001b[0m\u001b[1;33m)\u001b[0m\u001b[1;33m\u001b[0m\u001b[0m\n\u001b[0m",
      "\u001b[1;31mNameError\u001b[0m: name 'moon_position' is not defined"
     ]
    }
   ],
   "source": [
    "acceleration(moon_position, spaceship_position)"
   ]
  },
  {
   "cell_type": "code",
   "execution_count": 23,
   "metadata": {
    "collapsed": false
   },
   "outputs": [
    {
     "data": {
      "text/html": [
       "\n",
       "        <iframe\n",
       "            width=\"400\"\n",
       "            height=\"300\"\n",
       "            src=\"https://www.youtube.com/embed/NGPU5WCxDLs\"\n",
       "            frameborder=\"0\"\n",
       "            allowfullscreen\n",
       "        ></iframe>\n",
       "        "
      ],
      "text/plain": [
       "<IPython.lib.display.YouTubeVideo at 0x3e7a2e8>"
      ]
     },
     "execution_count": 23,
     "metadata": {},
     "output_type": "execute_result"
    }
   ],
   "source": [
    "from IPython.display import YouTubeVideo\n",
    "YouTubeVideo('NGPU5WCxDLs')"
   ]
  },
  {
   "cell_type": "markdown",
   "metadata": {
    "collapsed": true
   },
   "source": [
    "## Lunar Orbit"
   ]
  },
  {
   "cell_type": "code",
   "execution_count": 24,
   "metadata": {
    "collapsed": false
   },
   "outputs": [],
   "source": [
    "import math\n",
    "import numpy\n",
    "import matplotlib.pyplot\n",
    "%matplotlib inline\n",
    "\n",
    "\n",
    "moon_distance = 384e6 # m\n",
    "\n",
    "def orbit():\n",
    "    num_steps = 50\n",
    "    x = numpy.zeros([num_steps + 1, 2])\n",
    "    \n",
    "    for i in range(num_steps +1):\n",
    "        angle = 2.*math.pi*i / num_steps\n",
    "        x[i, 0] = moon_distance*math.cos(angle)\n",
    "        x[i, 1] = moon_distance*math.sin(angle)\n",
    "    return x\n",
    "\n",
    "\n",
    "x = orbit()\n",
    "\n",
    "def plot_me():\n",
    "    matplotlib.pyplot.axis('equal')\n",
    "    matplotlib.pyplot.plot(x[:, 0], x[:, 1])\n",
    "    axes = matplotlib.pyplot.gca()\n",
    "    axes.set_xlabel('Longitudinal position in m')\n",
    "    axes.set_ylabel('Lateral position in m')\n",
    "\n"
   ]
  },
  {
   "cell_type": "code",
   "execution_count": 6,
   "metadata": {
    "collapsed": false
   },
   "outputs": [
    {
     "data": {
      "image/png": "[encoded data removed]",
      "text/plain": [
       "<matplotlib.figure.Figure at 0xc4628d0>"
      ]
     },
     "metadata": {},
     "output_type": "display_data"
    }
   ],
   "source": [
    "plot_me()"
   ]
  },
  {
   "cell_type": "markdown",
   "metadata": {},
   "source": [
    "## Ballistic Trajectories"
   ]
  },
  {
   "cell_type": "code",
   "execution_count": 25,
   "metadata": {
    "collapsed": true
   },
   "outputs": [],
   "source": [
    "import math\n",
    "import numpy\n",
    "import matplotlib.pyplot as plt\n",
    "\n",
    "h = 0.1 # s\n",
    "g = 9.81 # m / s2\n",
    "acceleration = numpy.array([0., -g])\n",
    "initial_speed = 20. # m / s\n",
    "\n",
    "def trajectory():\n",
    "    angles = numpy.linspace(20., 70., 6)\n",
    "    \n",
    "    num_steps = 30\n",
    "    x = numpy.zeros([num_steps + 1, 2])\n",
    "    v = numpy.zeros([num_steps + 1, 2])\n",
    "    \n",
    "    for angle in angles:\n",
    "        angle_rad = math.pi / 180. * angle\n",
    "        x[0, 0] = 0.\n",
    "        x[0, 1] = 0.\n",
    "        v[0, 0] = initial_speed * math.cos(angle_rad)\n",
    "        v[0, 1] = initial_speed * math.sin(angle_rad)\n",
    "        for step in range(num_steps):\n",
    "            x[step + 1] = x[step] + h * v[step]\n",
    "            v[step + 1] = v[step] + h * acceleration    \n",
    "    return x, v\n",
    "\n",
    "x, v = trajectory()\n",
    "    \n",
    "def plot_me():\n",
    "    matplotlib.pyplot.plot(x[:, 0], x[:, 1])\n",
    "    matplotlib.pyplot.axis('equal')\n",
    "    axes = matplotlib.pyplot.gca()\n",
    "    axes.set_xlabel('Horizontal position in m')\n",
    "    axes.set_ylabel('Vertical position in m')\n"
   ]
  },
  {
   "cell_type": "code",
   "execution_count": 26,
   "metadata": {
    "collapsed": false
   },
   "outputs": [
    {
     "data": {
      "image/png": "[encoded data removed]",
      "text/plain": [
       "<matplotlib.figure.Figure at 0xc206978>"
      ]
     },
     "metadata": {},
     "output_type": "display_data"
    }
   ],
   "source": [
    "plot_me()"
   ]
  },
  {
   "cell_type": "markdown",
   "metadata": {},
   "source": [
    "## Spaceship Trajectories"
   ]
  },
  {
   "cell_type": "code",
   "execution_count": null,
   "metadata": {
    "collapsed": false
   },
   "outputs": [],
   "source": [
    "import math\n",
    "import numpy\n",
    "import matplotlib.pyplot as plt\n",
    "\n",
    "\n",
    "h = 1.0 # s\n",
    "earth_mass = 5.97e24 # kg\n",
    "gravitational_constant = 6.67e-11 # N m2 / kg2\n",
    "\n",
    "def acceleration(spaceship_position):\n",
    "    vector_to_earth = - spaceship_position # earth located at origin\n",
    "    return gravitational_constant * earth_mass /\\\n",
    "            numpy.linalg.norm(vector_to_earth)**3 * vector_to_earth\n",
    "\n",
    "\n",
    "def ship_trajectory():\n",
    "    num_steps = 1300000\n",
    "    x = numpy.zeros([num_steps + 1, 2]) # m\n",
    "    v = numpy.zeros([num_steps + 1, 2]) # m / s\n",
    "\n",
    "    x[0, 0] = 15e6\n",
    "    x[0, 1] = 1e6\n",
    "    v[0, 0] = 2e3\n",
    "    v[0, 1] = 4e3\n",
    "\n",
    "    for step in range(num_steps):\n",
    "        x[step + 1] = x[step] + h * v[step]\n",
    "        v[step + 1] = v[step] + h * acceleration(x[step])\n",
    "\n",
    "\n",
    "    return x, v\n",
    "\n",
    "x, v = ship_trajectory()\n",
    "\n",
    "\n",
    "def plot_me():\n",
    "    matplotlib.pyplot.plot(x[:, 0], x[:, 1])\n",
    "    matplotlib.pyplot.scatter(0, 0)\n",
    "    matplotlib.pyplot.axis('equal')\n",
    "    axes = matplotlib.pyplot.gca()\n",
    "    axes.set_xlabel('Longitudinal position in m')\n",
    "    axes.set_ylabel('Lateral position in m')\n"
   ]
  },
  {
   "cell_type": "code",
   "execution_count": 34,
   "metadata": {
    "collapsed": false
   },
   "outputs": [
    {
     "data": {
      "image/png": "[encoded data removed]",
      "text/plain": [
       "<matplotlib.figure.Figure at 0xcce2780>"
      ]
     },
     "metadata": {},
     "output_type": "display_data"
    }
   ],
   "source": [
    "plot_me()"
   ]
  },
  {
   "cell_type": "code",
   "execution_count": null,
   "metadata": {
    "collapsed": true
   },
   "outputs": [],
   "source": []
  }
 ],
 "metadata": {
  "kernelspec": {
   "display_name": "Python 2",
   "language": "python",
   "name": "python2"
  },
  "language_info": {
   "codemirror_mode": {
    "name": "ipython",
    "version": 2
   },
   "file_extension": ".py",
   "mimetype": "text/x-python",
   "name": "python",
   "nbconvert_exporter": "python",
   "pygments_lexer": "ipython2",
   "version": "2.7.11"
  }
 },
 "nbformat": 4,
 "nbformat_minor": 0
}
